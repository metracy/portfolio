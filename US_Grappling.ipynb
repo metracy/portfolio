{
 "cells": [
  {
   "cell_type": "code",
   "execution_count": 25,
   "id": "d8adf547",
   "metadata": {},
   "outputs": [],
   "source": [
    "import pandas as pd\n",
    "from io import StringIO\n",
    "import requests\n",
    "from plotnine import *\n",
    "from dplython import (DplyFrame, X, diamonds, select, sift, sample_n,\n",
    "    sample_frac, head, arrange, mutate, group_by, summarize, DelayFunction)"
   ]
  },
  {
   "cell_type": "code",
   "execution_count": 26,
   "id": "41b2f472",
   "metadata": {},
   "outputs": [
    {
     "name": "stdout",
     "output_type": "stream",
     "text": [
      "\n",
      "\n",
      "US Grappling Brazilian Jiu-jitsu Match Data from 2010-2019'\n",
      "Submission Only Data for adult and points for Juvenile\n",
      "\n",
      "\n",
      "\n"
     ]
    }
   ],
   "source": [
    "print('''\n",
    "\n",
    "US Grappling Brazilian Jiu-jitsu Match Data from 2010-2019'\n",
    "Submission Only Data for adult and points for Juvenile\n",
    "\n",
    "\n",
    "''')\n"
   ]
  },
  {
   "cell_type": "code",
   "execution_count": 38,
   "id": "409c7990",
   "metadata": {},
   "outputs": [],
   "source": [
    "df = pd.read_csv('MasterList.csv', delimiter=',')"
   ]
  },
  {
   "cell_type": "code",
   "execution_count": 39,
   "id": "cd1f6f87",
   "metadata": {},
   "outputs": [
    {
     "name": "stdout",
     "output_type": "stream",
     "text": [
      "<class 'pandas.core.frame.DataFrame'>\n",
      "RangeIndex: 8983 entries, 0 to 8982\n",
      "Data columns (total 8 columns):\n",
      " #   Column                 Non-Null Count  Dtype \n",
      "---  ------                 --------------  ----- \n",
      " 0   Match Time in Seconds  8933 non-null   object\n",
      " 1   Gi/No Gi               8983 non-null   object\n",
      " 2   Skill / Belt           8968 non-null   object\n",
      " 3   Division               8983 non-null   object\n",
      " 4   Submission             8864 non-null   object\n",
      " 5   Team                   538 non-null    object\n",
      " 6   Conference             8983 non-null   object\n",
      " 7   Year                   8983 non-null   int64 \n",
      "dtypes: int64(1), object(7)\n",
      "memory usage: 561.6+ KB\n"
     ]
    }
   ],
   "source": [
    "df.info()"
   ]
  },
  {
   "cell_type": "code",
   "execution_count": 29,
   "id": "da11a2cc",
   "metadata": {},
   "outputs": [],
   "source": [
    "df['Gi/No Gi'] = df['Gi/No Gi'].astype('category')\n",
    "df['Match Time in Seconds'] = pd.to_numeric(df['Match Time in Seconds'], errors='coerce')\n",
    "df['Skill / Belt'] = df['Skill / Belt'].astype('category')\n",
    "df['Division'] = df['Division'].astype('category')\n",
    "df['Conference'] = df['Conference'].astype('category')\n",
    "df['Submission'] = df['Submission'].astype('category')\n",
    "df['Team'] = df['Team'].astype('category')"
   ]
  },
  {
   "cell_type": "code",
   "execution_count": 40,
   "id": "aca52152",
   "metadata": {},
   "outputs": [
    {
     "data": {
      "text/html": [
       "<div>\n",
       "<style scoped>\n",
       "    .dataframe tbody tr th:only-of-type {\n",
       "        vertical-align: middle;\n",
       "    }\n",
       "\n",
       "    .dataframe tbody tr th {\n",
       "        vertical-align: top;\n",
       "    }\n",
       "\n",
       "    .dataframe thead th {\n",
       "        text-align: right;\n",
       "    }\n",
       "</style>\n",
       "<table border=\"1\" class=\"dataframe\">\n",
       "  <thead>\n",
       "    <tr style=\"text-align: right;\">\n",
       "      <th></th>\n",
       "      <th>Match Time in Seconds</th>\n",
       "      <th>Gi/No Gi</th>\n",
       "      <th>Skill / Belt</th>\n",
       "      <th>Division</th>\n",
       "      <th>Submission</th>\n",
       "      <th>Team</th>\n",
       "      <th>Conference</th>\n",
       "      <th>Year</th>\n",
       "    </tr>\n",
       "  </thead>\n",
       "  <tbody>\n",
       "    <tr>\n",
       "      <th>0</th>\n",
       "      <td>195</td>\n",
       "      <td>GI</td>\n",
       "      <td>ADVANCED</td>\n",
       "      <td>JUVENILE</td>\n",
       "      <td>AMERICANA LOCK</td>\n",
       "      <td>NaN</td>\n",
       "      <td>RALEIGH 2018</td>\n",
       "      <td>2018</td>\n",
       "    </tr>\n",
       "    <tr>\n",
       "      <th>1</th>\n",
       "      <td>25</td>\n",
       "      <td>GI</td>\n",
       "      <td>ADVANCED</td>\n",
       "      <td>JUVENILE</td>\n",
       "      <td>AMERICANA LOCK</td>\n",
       "      <td>NaN</td>\n",
       "      <td>RALEIGH 2016</td>\n",
       "      <td>2016</td>\n",
       "    </tr>\n",
       "    <tr>\n",
       "      <th>2</th>\n",
       "      <td>302</td>\n",
       "      <td>NO GI</td>\n",
       "      <td>ADVANCED</td>\n",
       "      <td>MEN</td>\n",
       "      <td>AMERICANA LOCK</td>\n",
       "      <td>FLOW JIU JITSU</td>\n",
       "      <td>PHILLY 2010</td>\n",
       "      <td>2010</td>\n",
       "    </tr>\n",
       "    <tr>\n",
       "      <th>3</th>\n",
       "      <td>837</td>\n",
       "      <td>NO GI</td>\n",
       "      <td>ADVANCED</td>\n",
       "      <td>MEN 30+</td>\n",
       "      <td>AMERICANA LOCK</td>\n",
       "      <td>NaN</td>\n",
       "      <td>GREENSBORO 2015</td>\n",
       "      <td>2015</td>\n",
       "    </tr>\n",
       "    <tr>\n",
       "      <th>4</th>\n",
       "      <td>200</td>\n",
       "      <td>NO GI</td>\n",
       "      <td>ADVANCED</td>\n",
       "      <td>MEN</td>\n",
       "      <td>AMERICANA LOCK</td>\n",
       "      <td>NaN</td>\n",
       "      <td>VIRGINIA BEACH 2016</td>\n",
       "      <td>2016</td>\n",
       "    </tr>\n",
       "    <tr>\n",
       "      <th>...</th>\n",
       "      <td>...</td>\n",
       "      <td>...</td>\n",
       "      <td>...</td>\n",
       "      <td>...</td>\n",
       "      <td>...</td>\n",
       "      <td>...</td>\n",
       "      <td>...</td>\n",
       "      <td>...</td>\n",
       "    </tr>\n",
       "    <tr>\n",
       "      <th>8978</th>\n",
       "      <td>240</td>\n",
       "      <td>GI</td>\n",
       "      <td>NaN</td>\n",
       "      <td>JUVENILE</td>\n",
       "      <td>POINTS</td>\n",
       "      <td>NaN</td>\n",
       "      <td>VIRGINIA BEACH 2015</td>\n",
       "      <td>2015</td>\n",
       "    </tr>\n",
       "    <tr>\n",
       "      <th>8979</th>\n",
       "      <td>240</td>\n",
       "      <td>GI</td>\n",
       "      <td>NaN</td>\n",
       "      <td>JUVENILE</td>\n",
       "      <td>POINTS</td>\n",
       "      <td>NaN</td>\n",
       "      <td>VIRGINIA BEACH 2015</td>\n",
       "      <td>2015</td>\n",
       "    </tr>\n",
       "    <tr>\n",
       "      <th>8980</th>\n",
       "      <td>538</td>\n",
       "      <td>NO GI</td>\n",
       "      <td>NaN</td>\n",
       "      <td>MEN 30+</td>\n",
       "      <td>SCISSOR CHOKE</td>\n",
       "      <td>NaN</td>\n",
       "      <td>RICHMOND 2017</td>\n",
       "      <td>2017</td>\n",
       "    </tr>\n",
       "    <tr>\n",
       "      <th>8981</th>\n",
       "      <td>120</td>\n",
       "      <td>GI</td>\n",
       "      <td>NaN</td>\n",
       "      <td>JUVENILE</td>\n",
       "      <td>TRIANGLE</td>\n",
       "      <td>NaN</td>\n",
       "      <td>VIRGINIA BEACH 2015</td>\n",
       "      <td>2015</td>\n",
       "    </tr>\n",
       "    <tr>\n",
       "      <th>8982</th>\n",
       "      <td>114</td>\n",
       "      <td>GI</td>\n",
       "      <td>NaN</td>\n",
       "      <td>JUVENILE</td>\n",
       "      <td>NaN</td>\n",
       "      <td>NaN</td>\n",
       "      <td>VIRGINIA BEACH 2015</td>\n",
       "      <td>2015</td>\n",
       "    </tr>\n",
       "  </tbody>\n",
       "</table>\n",
       "<p>8983 rows × 8 columns</p>\n",
       "</div>"
      ],
      "text/plain": [
       "     Match Time in Seconds Gi/No Gi Skill / Belt   Division      Submission  \\\n",
       "0                      195       GI     ADVANCED   JUVENILE  AMERICANA LOCK   \n",
       "1                       25      GI      ADVANCED  JUVENILE   AMERICANA LOCK   \n",
       "2                      302    NO GI     ADVANCED        MEN  AMERICANA LOCK   \n",
       "3                      837    NO GI     ADVANCED    MEN 30+  AMERICANA LOCK   \n",
       "4                      200    NO GI     ADVANCED        MEN  AMERICANA LOCK   \n",
       "...                    ...      ...          ...        ...             ...   \n",
       "8978                   240       GI          NaN   JUVENILE          POINTS   \n",
       "8979                   240       GI          NaN   JUVENILE          POINTS   \n",
       "8980                   538    NO GI          NaN    MEN 30+   SCISSOR CHOKE   \n",
       "8981                   120       GI          NaN   JUVENILE        TRIANGLE   \n",
       "8982                   114       GI          NaN   JUVENILE             NaN   \n",
       "\n",
       "                Team           Conference  Year  \n",
       "0                NaN         RALEIGH 2018  2018  \n",
       "1                NaN         RALEIGH 2016  2016  \n",
       "2     FLOW JIU JITSU          PHILLY 2010  2010  \n",
       "3                NaN      GREENSBORO 2015  2015  \n",
       "4                NaN  VIRGINIA BEACH 2016  2016  \n",
       "...              ...                  ...   ...  \n",
       "8978             NaN  VIRGINIA BEACH 2015  2015  \n",
       "8979             NaN  VIRGINIA BEACH 2015  2015  \n",
       "8980             NaN        RICHMOND 2017  2017  \n",
       "8981             NaN  VIRGINIA BEACH 2015  2015  \n",
       "8982             NaN  VIRGINIA BEACH 2015  2015  \n",
       "\n",
       "[8983 rows x 8 columns]"
      ]
     },
     "execution_count": 40,
     "metadata": {},
     "output_type": "execute_result"
    }
   ],
   "source": [
    "df"
   ]
  },
  {
   "cell_type": "code",
   "execution_count": 42,
   "id": "edc2b7f2",
   "metadata": {},
   "outputs": [
    {
     "data": {
      "text/plain": [
       "Match Time in Seconds      50\n",
       "Skill / Belt               15\n",
       "Submission                119\n",
       "Team                     8445\n",
       "dtype: int64"
      ]
     },
     "execution_count": 42,
     "metadata": {},
     "output_type": "execute_result"
    }
   ],
   "source": [
    "cols_with_missing = df.columns[df.isnull().any()].tolist()\n",
    "df[cols_with_missing].isnull().sum()"
   ]
  },
  {
   "cell_type": "code",
   "execution_count": 43,
   "id": "52d04681",
   "metadata": {},
   "outputs": [],
   "source": [
    "df_cleaned = df.dropna(subset=['Match Time in Seconds','Submission','Skill / Belt'])"
   ]
  },
  {
   "cell_type": "code",
   "execution_count": 45,
   "id": "f88a2616",
   "metadata": {
    "scrolled": true
   },
   "outputs": [
    {
     "data": {
      "text/plain": [
       "Match Time in Seconds       0\n",
       "Skill / Belt                0\n",
       "Submission                  0\n",
       "Team                     8276\n",
       "dtype: int64"
      ]
     },
     "execution_count": 45,
     "metadata": {},
     "output_type": "execute_result"
    }
   ],
   "source": [
    "cols_with_missing = df_cleaned.columns[df.isnull().any()].tolist()\n",
    "df_cleaned[cols_with_missing].isnull().sum()"
   ]
  },
  {
   "cell_type": "code",
   "execution_count": 46,
   "id": "5bc69436",
   "metadata": {},
   "outputs": [],
   "source": [
    "Ranks = df_cleaned.groupby(['Skill / Belt', 'Submission']).size()"
   ]
  },
  {
   "cell_type": "code",
   "execution_count": 47,
   "id": "556732a4",
   "metadata": {},
   "outputs": [
    {
     "data": {
      "text/plain": [
       "Skill / Belt  Submission       \n",
       "ADVANCED      AMERICANA LOCK        26\n",
       "              ANKLE LOCK            12\n",
       "              ARM TRIANGLE          15\n",
       "              ARMBAR               152\n",
       "              ARMLOCK                5\n",
       "                                  ... \n",
       "WHITE         VAN FLUE CHOKE         1\n",
       "              VERBAL SUBMISSION      6\n",
       "              VON FLUE CHOKE         1\n",
       "              WRISTLOCK             17\n",
       "              ZIPTIE CHOKE           1\n",
       "Length: 541, dtype: int64"
      ]
     },
     "execution_count": 47,
     "metadata": {},
     "output_type": "execute_result"
    }
   ],
   "source": [
    "Ranks"
   ]
  },
  {
   "cell_type": "code",
   "execution_count": 49,
   "id": "2e598761",
   "metadata": {},
   "outputs": [
    {
     "name": "stdout",
     "output_type": "stream",
     "text": [
      "\n",
      "Need to make a separate column for type of submission general - choke or armlock\n",
      "\n",
      "\n"
     ]
    }
   ],
   "source": [
    "print('''\n",
    "Need to make a separate column for type of submission general - choke or armlock\n",
    "\n",
    "''')"
   ]
  },
  {
   "cell_type": "code",
   "execution_count": null,
   "id": "dc054dd4",
   "metadata": {},
   "outputs": [],
   "source": []
  },
  {
   "cell_type": "code",
   "execution_count": null,
   "id": "b42bbf11",
   "metadata": {},
   "outputs": [],
   "source": []
  },
  {
   "cell_type": "code",
   "execution_count": null,
   "id": "62c4332c",
   "metadata": {},
   "outputs": [],
   "source": []
  },
  {
   "cell_type": "code",
   "execution_count": null,
   "id": "8e1c0554",
   "metadata": {},
   "outputs": [],
   "source": []
  },
  {
   "cell_type": "code",
   "execution_count": null,
   "id": "a0ea1a1e",
   "metadata": {},
   "outputs": [],
   "source": []
  }
 ],
 "metadata": {
  "kernelspec": {
   "display_name": "Python 3 (ipykernel)",
   "language": "python",
   "name": "python3"
  },
  "language_info": {
   "codemirror_mode": {
    "name": "ipython",
    "version": 3
   },
   "file_extension": ".py",
   "mimetype": "text/x-python",
   "name": "python",
   "nbconvert_exporter": "python",
   "pygments_lexer": "ipython3",
   "version": "3.10.9"
  }
 },
 "nbformat": 4,
 "nbformat_minor": 5
}
